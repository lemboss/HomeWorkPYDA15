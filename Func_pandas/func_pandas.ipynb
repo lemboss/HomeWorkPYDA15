{
 "cells": [
  {
   "cell_type": "code",
   "execution_count": 1,
   "metadata": {},
   "outputs": [],
   "source": [
    "import pandas as pd"
   ]
  },
  {
   "cell_type": "code",
   "execution_count": 2,
   "metadata": {},
   "outputs": [],
   "source": [
    "data = pd.read_csv('ratings.csv')\n",
    "def rating(arg):\n",
    "    \"\"\"Классифиция фильмов из материалов занятия\"\"\"\n",
    "    if arg <=2:\n",
    "        return 'низкий рейтинг'\n",
    "    elif arg <=4:\n",
    "        return 'средний рейтинг'\n",
    "    return 'высокий рейтинг'\n",
    "data['class'] = data['rating'].apply(rating)"
   ]
  },
  {
   "cell_type": "code",
   "execution_count": 3,
   "metadata": {},
   "outputs": [],
   "source": [
    "data = pd.read_csv('keywords.csv')\n",
    "geo_data = {\n",
    "    'Центр': ['москва', 'тула', 'ярославль'],\n",
    "    'Северо-Запад': ['петербург', 'псков', 'мурманск'],\n",
    "    'Дальний Восток': ['владивосток', 'сахалин', 'хабаровск']\n",
    "}\n",
    "def geo_classifier(arg):\n",
    "    \"\"\"Гео-классификатор, который каждой строке сможет выставить географическую принадлежность определенному региону\"\"\"\n",
    "    for keys, values in geo_data.items():\n",
    "        for value in values:\n",
    "            if value in arg: return keys\n",
    "    return 'undefined'     \n",
    "data['region'] = data['keyword'].apply(geo_classifier)"
   ]
  },
  {
   "cell_type": "code",
   "execution_count": 25,
   "metadata": {},
   "outputs": [
    {
     "data": {
      "text/plain": [
       "year\n",
       "1995.0    3.924710\n",
       "2006.0    3.876271\n",
       "2007.0    3.820423\n",
       "1998.0    3.796512\n",
       "2008.0    3.743494\n",
       "            ...   \n",
       "1979.0    3.152174\n",
       "1980.0    3.112360\n",
       "1962.0    3.100000\n",
       "1950.0    3.023810\n",
       "2000.0    2.975265\n",
       "Name: rating, Length: 62, dtype: float64"
      ]
     },
     "execution_count": 25,
     "metadata": {},
     "output_type": "execute_result"
    }
   ],
   "source": [
    "data = pd.read_csv('ratings.csv')\n",
    "movies = pd.read_csv('movies.csv')\n",
    "years = [year for year in range(1950,2011)]\n",
    "data.sort_values('movieId', inplace = True)\n",
    "def production_year(arg):\n",
    "    \"\"\"Выставить строке из названия фильма год выпуска\"\"\"\n",
    "    for year in years:                         \n",
    "        b = arg.split()[-1].strip(')(')\n",
    "        if str(year) == arg.split()[-1].strip(')('):      \n",
    "            return year                        \n",
    "    return 1900\n",
    "data['year'] = movies['title'].apply(production_year)\n",
    "data.groupby('year').mean().sort_values('rating',ascending = False)['rating']"
   ]
  },
  {
   "cell_type": "code",
   "execution_count": null,
   "metadata": {},
   "outputs": [],
   "source": []
  }
 ],
 "metadata": {
  "kernelspec": {
   "display_name": "Python 3",
   "language": "python",
   "name": "python3"
  },
  "language_info": {
   "codemirror_mode": {
    "name": "ipython",
    "version": 3
   },
   "file_extension": ".py",
   "mimetype": "text/x-python",
   "name": "python",
   "nbconvert_exporter": "python",
   "pygments_lexer": "ipython3",
   "version": "3.7.6"
  }
 },
 "nbformat": 4,
 "nbformat_minor": 4
}
