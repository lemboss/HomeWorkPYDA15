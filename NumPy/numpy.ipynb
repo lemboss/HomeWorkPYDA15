{
 "cells": [
  {
   "cell_type": "code",
   "execution_count": 1,
   "metadata": {},
   "outputs": [],
   "source": [
    "import numpy as np"
   ]
  },
  {
   "cell_type": "code",
   "execution_count": 2,
   "metadata": {},
   "outputs": [
    {
     "name": "stdout",
     "output_type": "stream",
     "text": [
      "Задание 1\n",
      "10\n",
      "[9 8 7 6 5 4 3 2 1 0]\n"
     ]
    }
   ],
   "source": [
    "print('Задание 1')\n",
    "N = int(input())\n",
    "a = np.arange(N-1, -1, -1)\n",
    "print(a)"
   ]
  },
  {
   "cell_type": "code",
   "execution_count": 3,
   "metadata": {},
   "outputs": [
    {
     "name": "stdout",
     "output_type": "stream",
     "text": [
      "Задание 2\n",
      "10\n",
      "[[9 0 0 0 0 0 0 0 0 0]\n",
      " [0 8 0 0 0 0 0 0 0 0]\n",
      " [0 0 7 0 0 0 0 0 0 0]\n",
      " [0 0 0 6 0 0 0 0 0 0]\n",
      " [0 0 0 0 5 0 0 0 0 0]\n",
      " [0 0 0 0 0 4 0 0 0 0]\n",
      " [0 0 0 0 0 0 3 0 0 0]\n",
      " [0 0 0 0 0 0 0 2 0 0]\n",
      " [0 0 0 0 0 0 0 0 1 0]\n",
      " [0 0 0 0 0 0 0 0 0 0]]\n",
      "45\n"
     ]
    }
   ],
   "source": [
    "print('Задание 2')\n",
    "N = int(input())\n",
    "b = np.diag(a, k=0)\n",
    "print(b)\n",
    "print(a.sum())"
   ]
  },
  {
   "cell_type": "code",
   "execution_count": 4,
   "metadata": {},
   "outputs": [
    {
     "name": "stdout",
     "output_type": "stream",
     "text": [
      "Задание 3\n",
      "True\n",
      "[-5.18181818  5.72727273 13.27272727]\n"
     ]
    }
   ],
   "source": [
    "print('Задание 3')\n",
    "valuesL = np.array([\n",
    "    [4, 2, 1],\n",
    "    [1, 3, 0],\n",
    "    [5, 4, 0]\n",
    "            ])\n",
    "valuesR = np.array([4, 12, -3])\n",
    "print(np.allclose( np.dot(valuesL, np.linalg.solve(valuesL, valuesR)), valuesR))\n",
    "print(np.linalg.solve(valuesL, valuesR))"
   ]
  },
  {
   "cell_type": "code",
   "execution_count": 5,
   "metadata": {},
   "outputs": [
    {
     "name": "stdout",
     "output_type": "stream",
     "text": [
      "Задание 4\n",
      "User ID - 7\n"
     ]
    }
   ],
   "source": [
    "print('Задание 4')\n",
    "next_user_stats = np.array([0, 1, 2, 0, 0, 0])\n",
    "users_stats = np.array(\n",
    "    [\n",
    "        [2, 1, 0, 0, 0, 0],\n",
    "        [1, 1, 2, 1, 0, 0],\n",
    "        [2, 0, 1, 0, 0, 0],\n",
    "        [1, 1, 2, 1, 0, 1],\n",
    "        [0, 0, 1, 2, 0, 0],\n",
    "        [0, 0, 0, 0, 0, 5],\n",
    "        [1, 0, 0, 0, 0, 0],\n",
    "        [0, 1, 1, 0, 0, 0],\n",
    "        [0, 0, 0, 1, 1, 3],\n",
    "        [1, 0, 0, 2, 1, 4]\n",
    "    ], \n",
    "    np.int32\n",
    ")\n",
    "temp = users_stats.reshape(1,60).reshape(60)\n",
    "num_of_users = users_stats.shape[0]\n",
    "length_of_array = len(next_user_stats)\n",
    "new_user_stats = temp[ :length_of_array]\n",
    "i = 0\n",
    "values = list()\n",
    "def cosine( a, b ):\n",
    "    \"\"\"\n",
    "    Подсчет косинуса угла между векторами a, b по их координатам\n",
    "    \"\"\"\n",
    "    aLength = np.linalg.norm( next_user_stats )\n",
    "    bLength = np.linalg.norm( new_user_stats  )\n",
    "    return np.dot( a, b ) / ( aLength * bLength )\n",
    "\n",
    "while i != num_of_users:\n",
    "    new_user_stats = temp[ :length_of_array]\n",
    "    values.append( cosine( next_user_stats, new_user_stats ) )\n",
    "    temp = temp[length_of_array:] \n",
    "    i += 1\n",
    "\n",
    "print(f'User ID - {values.index(max(values))}')"
   ]
  }
 ],
 "metadata": {
  "kernelspec": {
   "display_name": "Python 3",
   "language": "python",
   "name": "python3"
  },
  "language_info": {
   "codemirror_mode": {
    "name": "ipython",
    "version": 3
   },
   "file_extension": ".py",
   "mimetype": "text/x-python",
   "name": "python",
   "nbconvert_exporter": "python",
   "pygments_lexer": "ipython3",
   "version": "3.7.6"
  }
 },
 "nbformat": 4,
 "nbformat_minor": 4
}
