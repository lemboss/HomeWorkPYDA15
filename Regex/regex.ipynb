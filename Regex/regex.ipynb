{
 "cells": [
  {
   "cell_type": "code",
   "execution_count": 1,
   "metadata": {},
   "outputs": [],
   "source": [
    "import re"
   ]
  },
  {
   "cell_type": "markdown",
   "metadata": {},
   "source": [
    "# Задание 1"
   ]
  },
  {
   "cell_type": "code",
   "execution_count": 2,
   "metadata": {},
   "outputs": [
    {
     "name": "stdout",
     "output_type": "stream",
     "text": [
      "213\n"
     ]
    },
    {
     "data": {
      "text/plain": [
       "'Номер не валиден'"
      ]
     },
     "execution_count": 2,
     "metadata": {},
     "output_type": "execute_result"
    }
   ],
   "source": [
    "def validation_check():\n",
    "    \"\"\"Проверить валидацию транспортного номера\"\"\"\n",
    "    num = input()\n",
    "    try:\n",
    "        re.search(r'[A-Z]\\d{3}[A-Z]{2}\\d{2,3}', num).group()\n",
    "        return f'Номер {num[:6]} валиден. Регион: {num[6:]}'\n",
    "    except:\n",
    "        return 'Номер не валиден'\n",
    "validation_check()"
   ]
  },
  {
   "cell_type": "markdown",
   "metadata": {},
   "source": [
    "# Задание 2\n"
   ]
  },
  {
   "cell_type": "code",
   "execution_count": 80,
   "metadata": {},
   "outputs": [
    {
     "data": {
      "text/plain": [
       "'Напишите функцию, которая будет удалять все последовательные повторы слов из заданной строки при помощи регулярных выражений.'"
      ]
     },
     "execution_count": 80,
     "metadata": {},
     "output_type": "execute_result"
    }
   ],
   "source": [
    "some_string = 'Напишите функцию функцию, которая будет будет будет будет удалять все все все все последовательные повторы слов из из из из заданной строки строки при помощи регулярных выражений.'  \n",
    "def del_repeat(text):\n",
    "    \"\"\"Удаляет последовательные повторы в тексте\"\"\" \n",
    "    return re.sub(r'\\b([^\\W\\d_]+)(\\s+\\1)+\\b', r'\\1', text)\n",
    "del_repeat(some_string)"
   ]
  },
  {
   "cell_type": "code",
   "execution_count": null,
   "metadata": {},
   "outputs": [],
   "source": []
  },
  {
   "cell_type": "markdown",
   "metadata": {},
   "source": [
    "# Задание 3\n"
   ]
  },
  {
   "cell_type": "code",
   "execution_count": 68,
   "metadata": {},
   "outputs": [
    {
     "name": "stdout",
     "output_type": "stream",
     "text": [
      "фвф\n"
     ]
    }
   ],
   "source": [
    "some_words = input()\n",
    "def acronym(string):\n",
    "    \"\"\"Функция, которая будет возвращать акроним по переданной в нее строке со словами.\"\"\"\n",
    "    return ''.join(re.findall(r'[A-ZА-Я]', string.title().strip()))\n",
    "acronym(some_words)"
   ]
  },
  {
   "cell_type": "markdown",
   "metadata": {},
   "source": [
    "# Задание 4\n"
   ]
  },
  {
   "cell_type": "code",
   "execution_count": 7,
   "metadata": {},
   "outputs": [],
   "source": [
    "emails = ['test@gmail.com', 'xyz@test.in', 'test@ya.ru', 'xyz@mail.ru', 'xyz@ya.ru', 'xyz@gmail.com']\n",
    "def distributor(emails):\n",
    "    \"\"\"Принимает на вход список email-адресов и выводит их распределение по доменным зонам.\"\"\"\n",
    "    domains = [re.search(r'(?<=@)\\w+\\.\\w+', mail).group() for mail in emails]\n",
    "    unique_domains = list(set(domains))\n",
    "    res = dict()\n",
    "    for domain in unique_domains:\n",
    "        res[domain] = domains.count(domain)\n",
    "    return res\n",
    "distributor(emails)"
   ]
  },
  {
   "cell_type": "markdown",
   "metadata": {},
   "source": [
    "# Задание 5"
   ]
  },
  {
   "cell_type": "code",
   "execution_count": 66,
   "metadata": {},
   "outputs": [],
   "source": [
    "some_text = 'Эталонной реализацией Python является интерпретатор CPython, поддерживающий большинство активно используемых платформ. Он распространяется под свободной лицензией Python Software Foundation License, позволяющей использовать его без ограничений в любых приложениях, включая проприетарные.'\n",
    "def counter_vowel_consonant(string):\n",
    "    \"\"\"Подсчитывает сколько слов начинается на гласные, а сколько на согласные буквы в тексте\"\"\"\n",
    "    vowel = re.findall(r'\\b[ёуеыаоэяиюЁУЕЫАОЭЯИЮaeiouyAEIOUY]\\w+', string)\n",
    "    consonant = [word for word in string.split() if word not in vowel]\n",
    "    return f'Слов на гласные буквы: {len(vowel)} Слов на согласные буквы: {len(consonant)}'\n",
    "counter_vowel_consonant(some_text)   "
   ]
  },
  {
   "cell_type": "markdown",
   "metadata": {},
   "source": [
    "# Задание 6"
   ]
  },
  {
   "cell_type": "code",
   "execution_count": 65,
   "metadata": {},
   "outputs": [],
   "source": [
    "num = input()\n",
    "def num_validator(num):\n",
    "    \"\"\"Проверяет номер сотового телефона на валидность\"\"\"\n",
    "    mask = re.search(r'(?:\\+?)([78])(?:[\\s(\\-]+)(\\d{3})(?:[\\s\\-)]+)(\\d{3})(?:[\\s\\-])(\\d{2})(?:[\\s-])(\\d{2})', num)\n",
    "    try:\n",
    "        return f'+{mask.group(1)}-{mask.group(2)}-{mask.group(3)}-{mask.group(4)}-{mask.group(4)}'\n",
    "    except:\n",
    "        return 'Номер не валиден'\n",
    "num_validator(num)    "
   ]
  }
 ],
 "metadata": {
  "kernelspec": {
   "display_name": "Python 3",
   "language": "python",
   "name": "python3"
  },
  "language_info": {
   "codemirror_mode": {
    "name": "ipython",
    "version": 3
   },
   "file_extension": ".py",
   "mimetype": "text/x-python",
   "name": "python",
   "nbconvert_exporter": "python",
   "pygments_lexer": "ipython3",
   "version": "3.7.6"
  }
 },
 "nbformat": 4,
 "nbformat_minor": 4
}
