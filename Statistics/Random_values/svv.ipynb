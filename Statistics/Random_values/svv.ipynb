{
 "cells": [
  {
   "cell_type": "code",
   "execution_count": 1,
   "metadata": {},
   "outputs": [],
   "source": [
    "import numpy as np"
   ]
  },
  {
   "cell_type": "code",
   "execution_count": 9,
   "metadata": {},
   "outputs": [
    {
     "name": "stdout",
     "output_type": "stream",
     "text": [
      "Вероятность выигрыша - 0.02 или 2.0%\n"
     ]
    }
   ],
   "source": [
    "parceling = 1/9\n",
    "open_1r, open_3r = 91/1000, 91/1000\n",
    "open_2r, open_5r = 9/1000, 9/1000\n",
    "open_10r, open_15r, open_50r, open_100r, open_200r = 1/1000, 1/1000, 1/1000, 1/1000, 1/1000\n",
    "# находим вероятность выигрыша \n",
    "luck = parceling * open_1r + parceling * open_3r + parceling * open_2r + parceling * open_5r + parceling * open_10r + parceling * open_15r + parceling * open_50r + parceling * open_100r + parceling * open_200r\n",
    "print(f'Вероятность выигрыша - {round(luck, 2)} или {round(luck, 2)*100}%')"
   ]
  },
  {
   "cell_type": "code",
   "execution_count": 21,
   "metadata": {},
   "outputs": [
    {
     "name": "stdout",
     "output_type": "stream",
     "text": [
      "В среднем игрок приобретает -0.216803, то есть игра не выгодна. Вероятность выигрыша - 0.203791\n"
     ]
    }
   ],
   "source": [
    "play = 1000000 # количество игр\n",
    "prize = 0 # счетчик проигранных денег\n",
    "point = 0 # количество удачных попыток \n",
    "for i in range(play):\n",
    "    prize -= 1 # заплатили за игру\n",
    "    num = np.random.randint(1000) # найдем случайным образом выигрышное число\n",
    "    if num == 777:\n",
    "        point += 1\n",
    "        prize += 200\n",
    "    elif num == 999:\n",
    "        point += 1\n",
    "        prize += 100\n",
    "    elif num == 555:\n",
    "        point += 1\n",
    "        prize += 50\n",
    "    elif num == 333:\n",
    "        point += 1\n",
    "        prize += 15\n",
    "    elif num == 111:\n",
    "        prize += 10\n",
    "        point += 1\n",
    "    elif num % 100 == 77:\n",
    "        point += 1\n",
    "        prize += 5\n",
    "    elif num % 10 == 7:\n",
    "        point += 1\n",
    "        prize += 3\n",
    "    elif num % 100 == 0:\n",
    "        point += 1\n",
    "        prize += 2\n",
    "    elif num % 10 == 0 or num == 0:\n",
    "        point += 1\n",
    "        prize += 1\n",
    "    \n",
    "print(f'В среднем игрок приобретает {prize/play}, то есть игра не выгодна. Вероятность выигрыша - {point/play}')"
   ]
  },
  {
   "cell_type": "code",
   "execution_count": null,
   "metadata": {},
   "outputs": [],
   "source": []
  }
 ],
 "metadata": {
  "kernelspec": {
   "display_name": "Python 3",
   "language": "python",
   "name": "python3"
  },
  "language_info": {
   "codemirror_mode": {
    "name": "ipython",
    "version": 3
   },
   "file_extension": ".py",
   "mimetype": "text/x-python",
   "name": "python",
   "nbconvert_exporter": "python",
   "pygments_lexer": "ipython3",
   "version": "3.7.6"
  }
 },
 "nbformat": 4,
 "nbformat_minor": 4
}
