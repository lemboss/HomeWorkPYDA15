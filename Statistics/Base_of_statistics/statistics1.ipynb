{
 "cells": [
  {
   "cell_type": "code",
   "execution_count": 1,
   "metadata": {},
   "outputs": [],
   "source": [
    "import pandas as pd"
   ]
  },
  {
   "cell_type": "code",
   "execution_count": 188,
   "metadata": {
    "scrolled": true
   },
   "outputs": [
    {
     "data": {
      "text/html": [
       "<div>\n",
       "<style scoped>\n",
       "    .dataframe tbody tr th:only-of-type {\n",
       "        vertical-align: middle;\n",
       "    }\n",
       "\n",
       "    .dataframe tbody tr th {\n",
       "        vertical-align: top;\n",
       "    }\n",
       "\n",
       "    .dataframe thead th {\n",
       "        text-align: right;\n",
       "    }\n",
       "</style>\n",
       "<table border=\"1\" class=\"dataframe\">\n",
       "  <thead>\n",
       "    <tr style=\"text-align: right;\">\n",
       "      <th></th>\n",
       "      <th>age</th>\n",
       "      <th>rectal temperature</th>\n",
       "      <th>pulse</th>\n",
       "      <th>pain</th>\n",
       "      <th>abdominal distension</th>\n",
       "      <th>abdomen</th>\n",
       "      <th>total protein</th>\n",
       "      <th>type of surgical lesion</th>\n",
       "    </tr>\n",
       "  </thead>\n",
       "  <tbody>\n",
       "    <tr>\n",
       "      <th>0</th>\n",
       "      <td>1</td>\n",
       "      <td>39.2</td>\n",
       "      <td>88.0</td>\n",
       "      <td>3.0</td>\n",
       "      <td>2.0</td>\n",
       "      <td>2.0</td>\n",
       "      <td>85.0</td>\n",
       "      <td>0</td>\n",
       "    </tr>\n",
       "    <tr>\n",
       "      <th>1</th>\n",
       "      <td>1</td>\n",
       "      <td>38.3</td>\n",
       "      <td>40.0</td>\n",
       "      <td>3.0</td>\n",
       "      <td>1.0</td>\n",
       "      <td>1.0</td>\n",
       "      <td>6.7</td>\n",
       "      <td>0</td>\n",
       "    </tr>\n",
       "    <tr>\n",
       "      <th>2</th>\n",
       "      <td>9</td>\n",
       "      <td>39.1</td>\n",
       "      <td>164.0</td>\n",
       "      <td>2.0</td>\n",
       "      <td>4.0</td>\n",
       "      <td>NaN</td>\n",
       "      <td>7.2</td>\n",
       "      <td>0</td>\n",
       "    </tr>\n",
       "    <tr>\n",
       "      <th>3</th>\n",
       "      <td>1</td>\n",
       "      <td>37.3</td>\n",
       "      <td>104.0</td>\n",
       "      <td>NaN</td>\n",
       "      <td>NaN</td>\n",
       "      <td>NaN</td>\n",
       "      <td>7.4</td>\n",
       "      <td>0</td>\n",
       "    </tr>\n",
       "    <tr>\n",
       "      <th>4</th>\n",
       "      <td>1</td>\n",
       "      <td>NaN</td>\n",
       "      <td>NaN</td>\n",
       "      <td>2.0</td>\n",
       "      <td>2.0</td>\n",
       "      <td>3.0</td>\n",
       "      <td>NaN</td>\n",
       "      <td>0</td>\n",
       "    </tr>\n",
       "    <tr>\n",
       "      <th>...</th>\n",
       "      <td>...</td>\n",
       "      <td>...</td>\n",
       "      <td>...</td>\n",
       "      <td>...</td>\n",
       "      <td>...</td>\n",
       "      <td>...</td>\n",
       "      <td>...</td>\n",
       "      <td>...</td>\n",
       "    </tr>\n",
       "    <tr>\n",
       "      <th>294</th>\n",
       "      <td>1</td>\n",
       "      <td>NaN</td>\n",
       "      <td>120.0</td>\n",
       "      <td>2.0</td>\n",
       "      <td>NaN</td>\n",
       "      <td>5.0</td>\n",
       "      <td>65.0</td>\n",
       "      <td>0</td>\n",
       "    </tr>\n",
       "    <tr>\n",
       "      <th>295</th>\n",
       "      <td>1</td>\n",
       "      <td>37.2</td>\n",
       "      <td>72.0</td>\n",
       "      <td>4.0</td>\n",
       "      <td>3.0</td>\n",
       "      <td>4.0</td>\n",
       "      <td>NaN</td>\n",
       "      <td>0</td>\n",
       "    </tr>\n",
       "    <tr>\n",
       "      <th>296</th>\n",
       "      <td>1</td>\n",
       "      <td>37.5</td>\n",
       "      <td>72.0</td>\n",
       "      <td>4.0</td>\n",
       "      <td>3.0</td>\n",
       "      <td>5.0</td>\n",
       "      <td>6.8</td>\n",
       "      <td>0</td>\n",
       "    </tr>\n",
       "    <tr>\n",
       "      <th>297</th>\n",
       "      <td>1</td>\n",
       "      <td>36.5</td>\n",
       "      <td>100.0</td>\n",
       "      <td>3.0</td>\n",
       "      <td>3.0</td>\n",
       "      <td>4.0</td>\n",
       "      <td>6.0</td>\n",
       "      <td>0</td>\n",
       "    </tr>\n",
       "    <tr>\n",
       "      <th>298</th>\n",
       "      <td>1</td>\n",
       "      <td>37.2</td>\n",
       "      <td>40.0</td>\n",
       "      <td>NaN</td>\n",
       "      <td>NaN</td>\n",
       "      <td>1.0</td>\n",
       "      <td>62.0</td>\n",
       "      <td>0</td>\n",
       "    </tr>\n",
       "  </tbody>\n",
       "</table>\n",
       "<p>299 rows × 8 columns</p>\n",
       "</div>"
      ],
      "text/plain": [
       "     age  rectal temperature  pulse  pain  abdominal distension  abdomen  \\\n",
       "0      1                39.2   88.0   3.0                   2.0      2.0   \n",
       "1      1                38.3   40.0   3.0                   1.0      1.0   \n",
       "2      9                39.1  164.0   2.0                   4.0      NaN   \n",
       "3      1                37.3  104.0   NaN                   NaN      NaN   \n",
       "4      1                 NaN    NaN   2.0                   2.0      3.0   \n",
       "..   ...                 ...    ...   ...                   ...      ...   \n",
       "294    1                 NaN  120.0   2.0                   NaN      5.0   \n",
       "295    1                37.2   72.0   4.0                   3.0      4.0   \n",
       "296    1                37.5   72.0   4.0                   3.0      5.0   \n",
       "297    1                36.5  100.0   3.0                   3.0      4.0   \n",
       "298    1                37.2   40.0   NaN                   NaN      1.0   \n",
       "\n",
       "     total protein  type of surgical lesion  \n",
       "0             85.0                        0  \n",
       "1              6.7                        0  \n",
       "2              7.2                        0  \n",
       "3              7.4                        0  \n",
       "4              NaN                        0  \n",
       "..             ...                      ...  \n",
       "294           65.0                        0  \n",
       "295            NaN                        0  \n",
       "296            6.8                        0  \n",
       "297            6.0                        0  \n",
       "298           62.0                        0  \n",
       "\n",
       "[299 rows x 8 columns]"
      ]
     },
     "execution_count": 188,
     "metadata": {},
     "output_type": "execute_result"
    }
   ],
   "source": [
    "data = pd.read_csv('horse_data.csv', na_values = '?').iloc[:,[1, 3, 4, 10, 12, 17, 19, 26]]\n",
    "data.columns = [\n",
    "    'age',\n",
    "    'rectal temperature',\n",
    "    'pulse',\n",
    "    'pain',\n",
    "    'abdominal distension',\n",
    "    'abdomen',\n",
    "    'total protein',\n",
    "    'type of surgical lesion'\n",
    "]\n",
    "data"
   ]
  },
  {
   "cell_type": "code",
   "execution_count": 189,
   "metadata": {},
   "outputs": [
    {
     "data": {
      "text/plain": [
       "age                           9.0\n",
       "rectal temperature           40.8\n",
       "pulse                       184.0\n",
       "pain                          5.0\n",
       "abdominal distension          4.0\n",
       "abdomen                       5.0\n",
       "total protein                89.0\n",
       "type of surgical lesion    2209.0\n",
       "dtype: float64"
      ]
     },
     "execution_count": 189,
     "metadata": {},
     "output_type": "execute_result"
    }
   ],
   "source": [
    "data.max()"
   ]
  },
  {
   "cell_type": "code",
   "execution_count": 190,
   "metadata": {},
   "outputs": [
    {
     "data": {
      "text/plain": [
       "age                         1.0\n",
       "rectal temperature         35.4\n",
       "pulse                      30.0\n",
       "pain                        1.0\n",
       "abdominal distension        1.0\n",
       "abdomen                     1.0\n",
       "total protein               3.3\n",
       "type of surgical lesion     0.0\n",
       "dtype: float64"
      ]
     },
     "execution_count": 190,
     "metadata": {},
     "output_type": "execute_result"
    }
   ],
   "source": [
    "data.min()"
   ]
  },
  {
   "cell_type": "code",
   "execution_count": 191,
   "metadata": {},
   "outputs": [
    {
     "data": {
      "text/plain": [
       "age                         2.0\n",
       "rectal temperature         38.0\n",
       "pulse                      72.0\n",
       "pain                        3.0\n",
       "abdominal distension        2.0\n",
       "abdomen                     4.0\n",
       "total protein              25.0\n",
       "type of surgical lesion     7.0\n",
       "dtype: float64"
      ]
     },
     "execution_count": 191,
     "metadata": {},
     "output_type": "execute_result"
    }
   ],
   "source": [
    "data.mean().round()"
   ]
  },
  {
   "cell_type": "code",
   "execution_count": 192,
   "metadata": {},
   "outputs": [
    {
     "data": {
      "text/plain": [
       "age                         1.0\n",
       "rectal temperature         38.2\n",
       "pulse                      64.0\n",
       "pain                        3.0\n",
       "abdominal distension        2.0\n",
       "abdomen                     4.0\n",
       "total protein               7.5\n",
       "type of surgical lesion     0.0\n",
       "dtype: float64"
      ]
     },
     "execution_count": 192,
     "metadata": {},
     "output_type": "execute_result"
    }
   ],
   "source": [
    "data.median()"
   ]
  },
  {
   "cell_type": "code",
   "execution_count": 193,
   "metadata": {},
   "outputs": [
    {
     "data": {
      "text/html": [
       "<div>\n",
       "<style scoped>\n",
       "    .dataframe tbody tr th:only-of-type {\n",
       "        vertical-align: middle;\n",
       "    }\n",
       "\n",
       "    .dataframe tbody tr th {\n",
       "        vertical-align: top;\n",
       "    }\n",
       "\n",
       "    .dataframe thead th {\n",
       "        text-align: right;\n",
       "    }\n",
       "</style>\n",
       "<table border=\"1\" class=\"dataframe\">\n",
       "  <thead>\n",
       "    <tr style=\"text-align: right;\">\n",
       "      <th></th>\n",
       "      <th>age</th>\n",
       "      <th>rectal temperature</th>\n",
       "      <th>pulse</th>\n",
       "      <th>pain</th>\n",
       "      <th>abdominal distension</th>\n",
       "      <th>abdomen</th>\n",
       "      <th>total protein</th>\n",
       "      <th>type of surgical lesion</th>\n",
       "    </tr>\n",
       "  </thead>\n",
       "  <tbody>\n",
       "    <tr>\n",
       "      <th>0</th>\n",
       "      <td>1</td>\n",
       "      <td>38.0</td>\n",
       "      <td>48.0</td>\n",
       "      <td>3.0</td>\n",
       "      <td>1.0</td>\n",
       "      <td>5.0</td>\n",
       "      <td>7.0</td>\n",
       "      <td>0</td>\n",
       "    </tr>\n",
       "  </tbody>\n",
       "</table>\n",
       "</div>"
      ],
      "text/plain": [
       "   age  rectal temperature  pulse  pain  abdominal distension  abdomen  \\\n",
       "0    1                38.0   48.0   3.0                   1.0      5.0   \n",
       "\n",
       "   total protein  type of surgical lesion  \n",
       "0            7.0                        0  "
      ]
     },
     "execution_count": 193,
     "metadata": {},
     "output_type": "execute_result"
    }
   ],
   "source": [
    "data.round().mode()"
   ]
  },
  {
   "cell_type": "markdown",
   "metadata": {},
   "source": [
    "Вкратце, в среднем температура чуть выше средней (норма 37.8). Можно сказать, что большая часть пациентов все же имеет некоторые осложнения. Пульс повышенный (норма 30-40). Боль, в основном, легкая прерывистая. Вздутие живота не было, хотя у некоторых слабое все же есть. У большинства брюшная полость растянута в толстом кишечнике. Уровень белка у пациентов в норме (норма 6-7.5). До операций дело не дошло. \n"
   ]
  },
  {
   "cell_type": "markdown",
   "metadata": {},
   "source": [
    "\n",
    "Видно, что есть пациент, а может даже несколько, который явно старше остальных (9 месяцев), но это значение нельзя назвать выбросом, потому что похоже на естественные данные. Эти данные не игнорируем, их отсутствие даст неправильную статистику!\n",
    "\n",
    "А вот с количеством белка точно что-то не так. Есть значение 89 - максимальное, и минимальное - 3. Скорее всего значения выше 15 будут выбросом, потому что такие невозможны. А около 3, я думаю, реальны, поэтому минимум за выброс не берем. Возможно, выбросы тут преднамеренные или из-за ошибки ввода данных. Чтобы сильно не искажать реальные данные, можно попробовать заменить выбросы на медиану.\n",
    "\n",
    "Аналогично с типом операции (столбец 'type of surgical lesion') видно выбросы. Максимальное значение таблицы > 2000, а по условию - 11. Поэтому все, что выше 11, будем считать выбросом. Возможно, выбросы тут преднамеренные или из-за ошибки ввода данных. Т.к. значения дискретные, выбросы заменим модой."
   ]
  },
  {
   "cell_type": "code",
   "execution_count": 194,
   "metadata": {
    "scrolled": true
   },
   "outputs": [],
   "source": [
    "# заменим выбросы на медиану в столбце total protein\n",
    "data.loc[data['total protein'] > 15, 'total protein'] = data['total protein'].median()"
   ]
  },
  {
   "cell_type": "code",
   "execution_count": 195,
   "metadata": {},
   "outputs": [],
   "source": [
    "# заменим выбросы на моду в столбце type of surgical lesion\n",
    "data.loc[data['type of surgical lesion'] > 11, 'type of surgical lesion'] = data['type of surgical lesion'].mode()"
   ]
  },
  {
   "cell_type": "code",
   "execution_count": 196,
   "metadata": {},
   "outputs": [
    {
     "data": {
      "text/plain": [
       "age                         2.0\n",
       "rectal temperature         38.0\n",
       "pulse                      72.0\n",
       "pain                        3.0\n",
       "abdominal distension        2.0\n",
       "abdomen                     4.0\n",
       "total protein               7.0\n",
       "type of surgical lesion     0.0\n",
       "dtype: float64"
      ]
     },
     "execution_count": 196,
     "metadata": {},
     "output_type": "execute_result"
    }
   ],
   "source": [
    "# новые средние значения\n",
    "data.mean().round()"
   ]
  },
  {
   "cell_type": "code",
   "execution_count": 197,
   "metadata": {},
   "outputs": [
    {
     "name": "stdout",
     "output_type": "stream",
     "text": [
      "<class 'pandas.core.frame.DataFrame'>\n",
      "RangeIndex: 299 entries, 0 to 298\n",
      "Data columns (total 8 columns):\n",
      " #   Column                   Non-Null Count  Dtype  \n",
      "---  ------                   --------------  -----  \n",
      " 0   age                      299 non-null    int64  \n",
      " 1   rectal temperature       239 non-null    float64\n",
      " 2   pulse                    275 non-null    float64\n",
      " 3   pain                     244 non-null    float64\n",
      " 4   abdominal distension     243 non-null    float64\n",
      " 5   abdomen                  181 non-null    float64\n",
      " 6   total protein            266 non-null    float64\n",
      " 7   type of surgical lesion  298 non-null    float64\n",
      "dtypes: float64(7), int64(1)\n",
      "memory usage: 18.8 KB\n"
     ]
    }
   ],
   "source": [
    "data.info()"
   ]
  },
  {
   "cell_type": "code",
   "execution_count": 198,
   "metadata": {},
   "outputs": [
    {
     "name": "stdout",
     "output_type": "stream",
     "text": [
      "age - 0.0%\n",
      "rectal temperature - 20.1%\n",
      "pulse - 8.0%\n",
      "pain - 18.4%\n",
      "abdominal distension - 18.7%\n",
      "abdomen - 39.5%\n",
      "total protein - 11.0%\n",
      "type of surgical lesion - 0.3%\n"
     ]
    }
   ],
   "source": [
    "# количество пропусков \n",
    "for col in data.columns:\n",
    "    pct_missing = data[col].isnull().mean()\n",
    "    print(f'{col} - {pct_missing :.1%}')"
   ]
  },
  {
   "cell_type": "markdown",
   "metadata": {},
   "source": [
    "Пропуски заменим медианным значением, чтобы не исказить данные"
   ]
  },
  {
   "cell_type": "code",
   "execution_count": 200,
   "metadata": {},
   "outputs": [],
   "source": [
    "data['rectal temperature'].fillna(data['rectal temperature'].median(), inplace=True)\n",
    "data['pulse'].fillna(data['pulse'].median(), inplace = True)\n",
    "data['pain'].fillna(data['pain'].median(), inplace=True)\n",
    "data['abdominal distension'].fillna(data['abdominal distension'].median(), inplace=True)\n",
    "data['total protein'].fillna(data['total protein'].median(), inplace=True)\n",
    "data['abdomen'].fillna(data['abdomen'].median(), inplace=True)\n",
    "data['type of surgical lesion'].fillna(data['type of surgical lesion'].median(), inplace=True)"
   ]
  },
  {
   "cell_type": "code",
   "execution_count": 202,
   "metadata": {},
   "outputs": [
    {
     "name": "stdout",
     "output_type": "stream",
     "text": [
      "<class 'pandas.core.frame.DataFrame'>\n",
      "RangeIndex: 299 entries, 0 to 298\n",
      "Data columns (total 8 columns):\n",
      " #   Column                   Non-Null Count  Dtype  \n",
      "---  ------                   --------------  -----  \n",
      " 0   age                      299 non-null    int64  \n",
      " 1   rectal temperature       299 non-null    float64\n",
      " 2   pulse                    299 non-null    float64\n",
      " 3   pain                     299 non-null    float64\n",
      " 4   abdominal distension     299 non-null    float64\n",
      " 5   abdomen                  299 non-null    float64\n",
      " 6   total protein            299 non-null    float64\n",
      " 7   type of surgical lesion  299 non-null    float64\n",
      "dtypes: float64(7), int64(1)\n",
      "memory usage: 18.8 KB\n"
     ]
    }
   ],
   "source": [
    "data.info()"
   ]
  },
  {
   "cell_type": "code",
   "execution_count": 203,
   "metadata": {},
   "outputs": [
    {
     "data": {
      "text/html": [
       "<div>\n",
       "<style scoped>\n",
       "    .dataframe tbody tr th:only-of-type {\n",
       "        vertical-align: middle;\n",
       "    }\n",
       "\n",
       "    .dataframe tbody tr th {\n",
       "        vertical-align: top;\n",
       "    }\n",
       "\n",
       "    .dataframe thead th {\n",
       "        text-align: right;\n",
       "    }\n",
       "</style>\n",
       "<table border=\"1\" class=\"dataframe\">\n",
       "  <thead>\n",
       "    <tr style=\"text-align: right;\">\n",
       "      <th></th>\n",
       "      <th>age</th>\n",
       "      <th>rectal temperature</th>\n",
       "      <th>pulse</th>\n",
       "      <th>pain</th>\n",
       "      <th>abdominal distension</th>\n",
       "      <th>abdomen</th>\n",
       "      <th>total protein</th>\n",
       "      <th>type of surgical lesion</th>\n",
       "    </tr>\n",
       "  </thead>\n",
       "  <tbody>\n",
       "    <tr>\n",
       "      <th>0</th>\n",
       "      <td>1</td>\n",
       "      <td>39.2</td>\n",
       "      <td>88.0</td>\n",
       "      <td>3.0</td>\n",
       "      <td>2.0</td>\n",
       "      <td>2.0</td>\n",
       "      <td>7.5</td>\n",
       "      <td>0.0</td>\n",
       "    </tr>\n",
       "    <tr>\n",
       "      <th>1</th>\n",
       "      <td>1</td>\n",
       "      <td>38.3</td>\n",
       "      <td>40.0</td>\n",
       "      <td>3.0</td>\n",
       "      <td>1.0</td>\n",
       "      <td>1.0</td>\n",
       "      <td>6.7</td>\n",
       "      <td>0.0</td>\n",
       "    </tr>\n",
       "    <tr>\n",
       "      <th>2</th>\n",
       "      <td>9</td>\n",
       "      <td>39.1</td>\n",
       "      <td>164.0</td>\n",
       "      <td>2.0</td>\n",
       "      <td>4.0</td>\n",
       "      <td>4.0</td>\n",
       "      <td>7.2</td>\n",
       "      <td>0.0</td>\n",
       "    </tr>\n",
       "    <tr>\n",
       "      <th>3</th>\n",
       "      <td>1</td>\n",
       "      <td>37.3</td>\n",
       "      <td>104.0</td>\n",
       "      <td>3.0</td>\n",
       "      <td>2.0</td>\n",
       "      <td>4.0</td>\n",
       "      <td>7.4</td>\n",
       "      <td>0.0</td>\n",
       "    </tr>\n",
       "    <tr>\n",
       "      <th>4</th>\n",
       "      <td>1</td>\n",
       "      <td>38.2</td>\n",
       "      <td>64.0</td>\n",
       "      <td>2.0</td>\n",
       "      <td>2.0</td>\n",
       "      <td>3.0</td>\n",
       "      <td>7.5</td>\n",
       "      <td>0.0</td>\n",
       "    </tr>\n",
       "    <tr>\n",
       "      <th>...</th>\n",
       "      <td>...</td>\n",
       "      <td>...</td>\n",
       "      <td>...</td>\n",
       "      <td>...</td>\n",
       "      <td>...</td>\n",
       "      <td>...</td>\n",
       "      <td>...</td>\n",
       "      <td>...</td>\n",
       "    </tr>\n",
       "    <tr>\n",
       "      <th>294</th>\n",
       "      <td>1</td>\n",
       "      <td>38.2</td>\n",
       "      <td>120.0</td>\n",
       "      <td>2.0</td>\n",
       "      <td>2.0</td>\n",
       "      <td>5.0</td>\n",
       "      <td>7.5</td>\n",
       "      <td>0.0</td>\n",
       "    </tr>\n",
       "    <tr>\n",
       "      <th>295</th>\n",
       "      <td>1</td>\n",
       "      <td>37.2</td>\n",
       "      <td>72.0</td>\n",
       "      <td>4.0</td>\n",
       "      <td>3.0</td>\n",
       "      <td>4.0</td>\n",
       "      <td>7.5</td>\n",
       "      <td>0.0</td>\n",
       "    </tr>\n",
       "    <tr>\n",
       "      <th>296</th>\n",
       "      <td>1</td>\n",
       "      <td>37.5</td>\n",
       "      <td>72.0</td>\n",
       "      <td>4.0</td>\n",
       "      <td>3.0</td>\n",
       "      <td>5.0</td>\n",
       "      <td>6.8</td>\n",
       "      <td>0.0</td>\n",
       "    </tr>\n",
       "    <tr>\n",
       "      <th>297</th>\n",
       "      <td>1</td>\n",
       "      <td>36.5</td>\n",
       "      <td>100.0</td>\n",
       "      <td>3.0</td>\n",
       "      <td>3.0</td>\n",
       "      <td>4.0</td>\n",
       "      <td>6.0</td>\n",
       "      <td>0.0</td>\n",
       "    </tr>\n",
       "    <tr>\n",
       "      <th>298</th>\n",
       "      <td>1</td>\n",
       "      <td>37.2</td>\n",
       "      <td>40.0</td>\n",
       "      <td>3.0</td>\n",
       "      <td>2.0</td>\n",
       "      <td>1.0</td>\n",
       "      <td>7.5</td>\n",
       "      <td>0.0</td>\n",
       "    </tr>\n",
       "  </tbody>\n",
       "</table>\n",
       "<p>299 rows × 8 columns</p>\n",
       "</div>"
      ],
      "text/plain": [
       "     age  rectal temperature  pulse  pain  abdominal distension  abdomen  \\\n",
       "0      1                39.2   88.0   3.0                   2.0      2.0   \n",
       "1      1                38.3   40.0   3.0                   1.0      1.0   \n",
       "2      9                39.1  164.0   2.0                   4.0      4.0   \n",
       "3      1                37.3  104.0   3.0                   2.0      4.0   \n",
       "4      1                38.2   64.0   2.0                   2.0      3.0   \n",
       "..   ...                 ...    ...   ...                   ...      ...   \n",
       "294    1                38.2  120.0   2.0                   2.0      5.0   \n",
       "295    1                37.2   72.0   4.0                   3.0      4.0   \n",
       "296    1                37.5   72.0   4.0                   3.0      5.0   \n",
       "297    1                36.5  100.0   3.0                   3.0      4.0   \n",
       "298    1                37.2   40.0   3.0                   2.0      1.0   \n",
       "\n",
       "     total protein  type of surgical lesion  \n",
       "0              7.5                      0.0  \n",
       "1              6.7                      0.0  \n",
       "2              7.2                      0.0  \n",
       "3              7.4                      0.0  \n",
       "4              7.5                      0.0  \n",
       "..             ...                      ...  \n",
       "294            7.5                      0.0  \n",
       "295            7.5                      0.0  \n",
       "296            6.8                      0.0  \n",
       "297            6.0                      0.0  \n",
       "298            7.5                      0.0  \n",
       "\n",
       "[299 rows x 8 columns]"
      ]
     },
     "execution_count": 203,
     "metadata": {},
     "output_type": "execute_result"
    }
   ],
   "source": [
    "data"
   ]
  },
  {
   "cell_type": "code",
   "execution_count": null,
   "metadata": {},
   "outputs": [],
   "source": []
  }
 ],
 "metadata": {
  "kernelspec": {
   "display_name": "Python 3",
   "language": "python",
   "name": "python3"
  },
  "language_info": {
   "codemirror_mode": {
    "name": "ipython",
    "version": 3
   },
   "file_extension": ".py",
   "mimetype": "text/x-python",
   "name": "python",
   "nbconvert_exporter": "python",
   "pygments_lexer": "ipython3",
   "version": "3.7.6"
  }
 },
 "nbformat": 4,
 "nbformat_minor": 4
}
