{
 "cells": [
  {
   "cell_type": "code",
   "execution_count": 4,
   "metadata": {
    "scrolled": false
   },
   "outputs": [
    {
     "name": "stdout",
     "output_type": "stream",
     "text": [
      "213\n",
      "322\n",
      "Фразы равной длины\n",
      "2\n"
     ]
    }
   ],
   "source": [
    "#Задание 1\n",
    "phrase_1, phrase_2 = input(), input()\n",
    "if len(phrase_1) > len(phrase_2):\n",
    "    print('Фраза 1 длиннее фразы 2')\n",
    "elif len(phrase_1) < len(phrase_2):\n",
    "    print('Фраза 2 длиннее фразы 1')\n",
    "else:\n",
    "    print('Фразы равной длины')\n",
    "print(2)"
   ]
  },
  {
   "cell_type": "code",
   "execution_count": null,
   "metadata": {},
   "outputs": [],
   "source": [
    "#Задание 2\n",
    "year = int(input())\n",
    "if ((year % 4 == 0) and (year % 100 != 0)) or (year % 400 == 0):\n",
    "    print('Високосный год')\n",
    "else:\n",
    "    print('Обычный год')"
   ]
  },
  {
   "cell_type": "code",
   "execution_count": 6,
   "metadata": {},
   "outputs": [
    {
     "name": "stdout",
     "output_type": "stream",
     "text": [
      "Введите день:\n",
      "13\n",
      "Введите месяц:\n",
      "февраль\n",
      "Результат:\n",
      "Водолей\n"
     ]
    }
   ],
   "source": [
    "#Задание 3\n",
    "dd = int(input('Введите день:\\n'))\n",
    "mm = input('Введите месяц:\\n').lower()\n",
    "if 21 <= dd <= 31 and mm == 'март' or 1 <= dd <= 20 and mm == 'апрель':\n",
    "    print('Результат:\\nОвен')\n",
    "elif 21 <= dd <= 30 and mm == 'апрель' or 1 <= dd <= 21 and mm == 'май':\n",
    "    print('Результат:\\nТелец')\n",
    "elif 22 <= dd <= 31 and mm == 'май' or 1 <= dd <= 21 and mm == 'июнь':\n",
    "    print('Результат:\\nБлизнецы')\n",
    "elif 22 <= dd <= 30 and mm == 'июнь' or 1 <= dd <= 22 and mm == 'июль':\n",
    "    print('Результат:\\nРак')\n",
    "elif 23 <= dd <= 31 and mm == 'июль' or 1 <= dd <= 23 and mm == 'август':\n",
    "    print('Результат:\\nЛев')\n",
    "elif 24 <= dd <= 31 and mm == 'август' or 1 <= dd <= 23 and mm == 'сентябрь':\n",
    "    print('Результат:\\nДева')\n",
    "elif 24 <= dd <= 30 and mm == 'сентябрь' or 1 <= dd <= 23 and mm == 'октябрь':\n",
    "    print('Результат:\\nВесы')\n",
    "elif 24 <= dd <= 31 and mm == 'октябрь' or 1 <= dd <= 22 and mm == 'ноябрь':\n",
    "    print('Результат:\\nСкорпион')\n",
    "elif 23 <= dd <= 30 and mm == 'ноябрь' or 1 <= dd <= 21 and mm == 'декабрь':\n",
    "    print('Результат:\\nСтрелец')\n",
    "elif 22 <= dd <= 31 and mm == 'декабрь' or 1 <= dd <= 20 and mm == 'январь':\n",
    "    print('Результат:\\nКозерог')\n",
    "elif 21 <= dd <= 31 and mm == 'январь' or 1 <= dd <= 18 and mm == 'февраль':\n",
    "    print('Результат:\\nВодолей')\n",
    "else:\n",
    "    print('Результат:\\nРыбы')        "
   ]
  },
  {
   "cell_type": "code",
   "execution_count": null,
   "metadata": {},
   "outputs": [],
   "source": [
    "#Задание 4\n",
    "width = int(input())\n",
    "length = int(input())\n",
    "height = int(input())\n",
    "if width < 15 and length < 15 and height < 15:\n",
    "    print('Коробка №1')\n",
    "elif 15 < width < 50 or 15 < length < 50 or 15 < height < 50:\n",
    "    print('Коробка №2')\n",
    "elif length > 200:\n",
    "    print('Упаковка для лыж')\n",
    "else:\n",
    "    print('Стандартная коробка №3')"
   ]
  },
  {
   "cell_type": "code",
   "execution_count": null,
   "metadata": {},
   "outputs": [],
   "source": [
    "# Задание 6\n",
    "import math\n",
    "figure = input('Введите тип фигуры: ').lower()\n",
    "if figure == 'круг':\n",
    "    radius = int(input('Введите радиус круга: '))\n",
    "    print('Результат: ', '\\nПлощадь круга:', math.pi*radius*radius)\n",
    "elif figure == 'треугольник':\n",
    "    a = int(input('Введите длину стороны A: '))\n",
    "    b = int(input('Введите длину стороны B: '))\n",
    "    c = int(input('Введите длину стороны C: '))\n",
    "    p = (a + b + c)/2\n",
    "    print('Результат: ', '\\nПлощадь треугольника:', math.sqrt(p*(p-a)*(p-b)*(p-c)))\n",
    "elif figure == 'прямоугольник':\n",
    "    a1 = int(input('Введите длину стороны A: '))\n",
    "    b1 = int(input('Введите длину стороны B: '))\n",
    "    print('Результат: ', '\\nПлощадь прямоугольника:', a1 * b1)"
   ]
  }
 ],
 "metadata": {
  "kernelspec": {
   "display_name": "Python 3",
   "language": "python",
   "name": "python3"
  },
  "language_info": {
   "codemirror_mode": {
    "name": "ipython",
    "version": 3
   },
   "file_extension": ".py",
   "mimetype": "text/x-python",
   "name": "python",
   "nbconvert_exporter": "python",
   "pygments_lexer": "ipython3",
   "version": "3.7.6"
  }
 },
 "nbformat": 4,
 "nbformat_minor": 4
}
