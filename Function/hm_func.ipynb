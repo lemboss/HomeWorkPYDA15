{
 "cells": [
  {
   "cell_type": "code",
   "execution_count": 2,
   "metadata": {},
   "outputs": [],
   "source": [
    "documents = [\n",
    "{'type': 'passport', 'number': '2207 876234', 'name': 'Василий Гупкин'},\n",
    "{'type': 'invoice', 'number': '11-2', 'name': 'Геннадий Покемонов'},\n",
    "{'type': 'insurance', 'number': '10006', 'name': 'Аристарх Павлов'}\n",
    "]\n",
    "directories = {\n",
    "'1': ['2207 876234', '11-2'],\n",
    "'2': ['10006'],\n",
    "'3': []\n",
    "}\n"
   ]
  },
  {
   "cell_type": "code",
   "execution_count": 3,
   "metadata": {},
   "outputs": [],
   "source": [
    "def find_name_by_number():\n",
    "    \"\"\"\n",
    "    Поиск владельца документа по его номеру\n",
    "    \"\"\"\n",
    "    flag = False\n",
    "    number = input('Введите номер документа: ')\n",
    "    for person in documents:\n",
    "        if person['number'] == number:\n",
    "            flag = True\n",
    "            break\n",
    "    if flag == True:\n",
    "        print('Владелец документа:', person['name'])\n",
    "    else:\n",
    "        print('Документ не найден в базе')"
   ]
  },
  {
   "cell_type": "code",
   "execution_count": 5,
   "metadata": {},
   "outputs": [],
   "source": [
    "def find_directories_by_number():\n",
    "    \"\"\"\n",
    "    Пользователь по номеру документа может узнать на какой полке он хранится\n",
    "    \"\"\"\n",
    "    flag = False\n",
    "    number = input('Введите номер документа: ')\n",
    "    for key in directories.keys():\n",
    "        for index in directories[key]:\n",
    "            if index == number:\n",
    "                flag = True\n",
    "                print('Документ хранится на полке:', int(key))\n",
    "                break\n",
    "        if flag == True:\n",
    "            break\n",
    "    if flag == False:\n",
    "        print('Документ не найден в базе')"
   ]
  },
  {
   "cell_type": "code",
   "execution_count": 6,
   "metadata": {},
   "outputs": [],
   "source": [
    "def show_all_stages():\n",
    "    \"\"\"\n",
    "    Увидеть полную информацию по всем документам\n",
    "    \"\"\"\n",
    "    for key in directories.keys():\n",
    "        for index in directories[key]:\n",
    "            for person in documents:\n",
    "                if index == person['number']:\n",
    "                    print('№:', index, ', тип: ', person['type'], ', владелец: ', person['name'],', полка хранения: ', int(key), sep = '')\n",
    "        "
   ]
  },
  {
   "cell_type": "code",
   "execution_count": 7,
   "metadata": {},
   "outputs": [],
   "source": [
    "def add_index():\n",
    "    \"\"\"\n",
    "    Пользователь может добавить полку хранения (ключ к directories)\n",
    "    \"\"\"\n",
    "    new_list = list()\n",
    "    number = input('Введите номер полки: ')\n",
    "    flag = False\n",
    "    for key in directories.keys():\n",
    "        new_list.append(key)\n",
    "    for key in directories.keys():\n",
    "        if key == number:\n",
    "            flag = True\n",
    "            print('Такая полка уже существует. Текущий перечень полок:', *new_list)\n",
    "            break\n",
    "    if flag == False:\n",
    "        directories[number] = []\n",
    "        new_list.append(number)\n",
    "        print('Полка добавлена. Текущий перечень полок:', *new_list)"
   ]
  },
  {
   "cell_type": "code",
   "execution_count": 8,
   "metadata": {},
   "outputs": [],
   "source": [
    "def del_index():\n",
    "    \"\"\"\n",
    "    Пользователь может удалить существующую полку из данных (только если она пустая)\n",
    "    \"\"\"\n",
    "    flag = False\n",
    "    number = input('Введите номер полки: ')\n",
    "    new_list = list()\n",
    "    for key in directories.keys():\n",
    "        new_list.append(key)\n",
    "    if number not in new_list:\n",
    "        print('Такой полки не существует. Текущий перечень полок:', *new_list)\n",
    "        return \n",
    "    for key in directories.keys():\n",
    "        if key == number and directories[number] == []:\n",
    "            flag = True\n",
    "            del directories[number]\n",
    "            new_list = []\n",
    "            for key in directories.keys():\n",
    "                new_list.append(key)\n",
    "            print('Полка удалена. Текущий перечень полок:', *new_list)    \n",
    "            break\n",
    "        else:\n",
    "            continue\n",
    "    if flag == False:\n",
    "        print('На полке есть документы, удалите их перед удалением полки. Текущий перечень полок:', *new_list)"
   ]
  },
  {
   "cell_type": "code",
   "execution_count": 9,
   "metadata": {},
   "outputs": [],
   "source": [
    "            \n",
    "def add_document():\n",
    "    \"\"\"\n",
    "    Пользователь может добавить новый документ в данные\n",
    "    \"\"\"\n",
    "    number_doc = input('Введите номер документа: ')\n",
    "    type_doc = input('Введите тип документа: ')\n",
    "    name_user = input('Введите владельца документа: ')\n",
    "    index_doc = input('Введите полку для хранения: ')\n",
    "    new_list = list()\n",
    "    for key in directories.keys():\n",
    "        new_list.append(key)\n",
    "    if index_doc not in new_list:\n",
    "        print('Такой полки не существует. Добавьте полку командой as.')\n",
    "        print('Текущий список документов:')\n",
    "        show_all_stages()\n",
    "        return\n",
    "    directories[index_doc].append(number_doc)\n",
    "    documents.append({'type': type_doc, 'number': number_doc, 'name': name_user})\n",
    "    show_all_stages()"
   ]
  },
  {
   "cell_type": "code",
   "execution_count": 10,
   "metadata": {},
   "outputs": [],
   "source": [
    "def del_doc():\n",
    "    \"\"\"\n",
    "    Пользователь может удалить документ из данных\n",
    "    \"\"\"\n",
    "    number = input('Введите номер документа: ')\n",
    "    flag = False\n",
    "    for key in directories.keys():\n",
    "        if number in directories[key]:\n",
    "            directories[key].remove(number)\n",
    "            flag = True\n",
    "            break\n",
    "    if flag == False:\n",
    "        print('Документ не найден в базе.')\n",
    "        print('Текущий список документов:')\n",
    "        show_all_stages()\n",
    "        return\n",
    "    for doc in documents:\n",
    "        if number == doc['number']:\n",
    "            documents.remove(doc)\n",
    "            break\n",
    "    print('Документ удален.')\n",
    "    print('Текущий список документов:')\n",
    "    show_all_stages()"
   ]
  },
  {
   "cell_type": "code",
   "execution_count": 11,
   "metadata": {},
   "outputs": [],
   "source": [
    "def move_doc():\n",
    "    \"\"\"\n",
    "    Пользователь может переместить документ с полки на полку\n",
    "    \"\"\"\n",
    "    number_doc = input('Введите номер документа: ')\n",
    "    number_board = input('Введите номер полки: ')\n",
    "    if number_doc not in documents.values():\n",
    "        print('Документ не найден в базе.')\n",
    "        print('Текущий список документов:')\n",
    "        show_all_stages()\n",
    "        return\n",
    "    if number_board not in directories.keys():\n",
    "        print('Такой полки не существует. Текущий перечень полок:', directories.keys())\n",
    "        return\n",
    "    for key in directories.keys():\n",
    "        if number_doc in directories[key]:\n",
    "            temp = directories[key].pop(number_doc)\n",
    "        if number_board == key:\n",
    "            directories[key].append(temp)\n",
    "            break"
   ]
  },
  {
   "cell_type": "code",
   "execution_count": 14,
   "metadata": {},
   "outputs": [
    {
     "name": "stdout",
     "output_type": "stream",
     "text": [
      "Введите команду: q\n"
     ]
    }
   ],
   "source": [
    "text = ''\n",
    "while text != 'q':\n",
    "    text = input('Введите команду: ')\n",
    "    if text == 'p':\n",
    "        find_name_by_number()\n",
    "    elif text == 's':\n",
    "        find_directories_by_number()\n",
    "    elif text == 'l':\n",
    "        show_all_stages()\n",
    "    elif text == 'as':\n",
    "        add_index()\n",
    "    elif text == 'ds':\n",
    "        del_index()\n",
    "    elif text == 'ad':\n",
    "        add_document()\n",
    "    elif text == 'd':\n",
    "        del_doc()\n",
    "    elif text == 'm':\n",
    "        move_doc()"
   ]
  },
  {
   "cell_type": "code",
   "execution_count": null,
   "metadata": {},
   "outputs": [],
   "source": []
  }
 ],
 "metadata": {
  "kernelspec": {
   "display_name": "Python 3",
   "language": "python",
   "name": "python3"
  }
 },
 "nbformat": 4,
 "nbformat_minor": 4
}
