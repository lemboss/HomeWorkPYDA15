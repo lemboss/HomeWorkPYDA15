{
 "cells": [
  {
   "cell_type": "code",
   "execution_count": null,
   "metadata": {
    "scrolled": true
   },
   "outputs": [],
   "source": [
    "# Задание 1\n",
    "string = input()\n",
    "if len(string) % 2 == 0:\n",
    "    print(string[len(string)//2 - 1] + string[len(string)//2])\n",
    "else:\n",
    "    print(string[len(string)//2])"
   ]
  },
  {
   "cell_type": "code",
   "execution_count": null,
   "metadata": {
    "scrolled": true
   },
   "outputs": [],
   "source": [
    "# Задание 2\n",
    "counter = 0\n",
    "num = 112\n",
    "while num != 0:\n",
    "    num = int(input('Введите число: '))\n",
    "    counter += num\n",
    "print('Результат:', counter)"
   ]
  },
  {
   "cell_type": "code",
   "execution_count": null,
   "metadata": {},
   "outputs": [],
   "source": [
    "# Задание 3\n",
    "boys = ['Peter', 'Alex', 'John', 'Arthur', 'Richard']\n",
    "girls = ['Kate', 'Liza', 'Kira', 'Emma', 'Trisha']\n",
    "boys.sort()\n",
    "girls.sort()\n",
    "print('Идеальные пары:')\n",
    "if len(boys) > len(girls):\n",
    "    for i in range(len(girls)):\n",
    "        print(boys[i], 'и', girls[i])\n",
    "elif len(boys) < len(girls):\n",
    "    for i in range(len(boys)):\n",
    "        print(boys[i], 'и', girls[i])\n",
    "else:\n",
    "    for i in range(len(boys)):\n",
    "        print(boys[i], 'и', girls[i])"
   ]
  },
  {
   "cell_type": "code",
   "execution_count": null,
   "metadata": {},
   "outputs": [],
   "source": [
    "# Задание 4\n",
    "countries_temperature = [\n",
    "['Thailand', [75.2, 77, 78.8, 73.4, 68, 75.2, 77]],\n",
    "['Germany', [57.2, 55.4, 59, 59, 53.6]],\n",
    "['Russia', [35.6, 37.4, 39.2, 41, 42.8, 39.2, 35.6]],\n",
    "['Poland', [50, 50, 53.6, 57.2, 55.4, 55.4]]\n",
    "]\n",
    "temp = 0\n",
    "for i in countries_temperature:\n",
    "    for j in i[1]:\n",
    "        temp += j\n",
    "    result = (temp//len(i[1]) - 32) * 5/9\n",
    "    print(i[0], '-', round(result,1), 'C')\n",
    "    temp = 0"
   ]
  },
  {
   "cell_type": "code",
   "execution_count": null,
   "metadata": {},
   "outputs": [],
   "source": [
    "# Задание 5\n",
    "stream = [\n",
    "'2018-01-01,user100,150',\n",
    "'2018-01-07,user99,205',\n",
    "'2018-03-29,user1001,81'\n",
    "]\n",
    "ll = stream[0]\n",
    "rts = ll[15:].split(',')\n",
    "user1 = int(rts[0])\n",
    "temp = 0\n",
    "counter1, counter2, counter3, counter4 = 0, 0, 0, 0\n",
    "for i in stream:\n",
    "    user2 = user1\n",
    "    smt = i[15:].split(',')\n",
    "    user1 = int(smt[0])\n",
    "    if user1 != user2:\n",
    "        counter3 += 1\n",
    "        counter4 += round(counter1 / counter2, 2)\n",
    "        counter1, counter2 = 0, 0\n",
    "    counter1 += int(smt[1])\n",
    "    counter2 += 1\n",
    "    temp += 1\n",
    "    if len(stream) == temp:\n",
    "        counter3 += 1\n",
    "        counter4 += round(counter1 / counter2, 2)\n",
    "\n",
    "print('Среднее количество просмотров на уникального пользователя:', round(counter4 / counter3,2))"
   ]
  },
  {
   "cell_type": "code",
   "execution_count": null,
   "metadata": {},
   "outputs": [],
   "source": [
    "# Задание 6\n",
    "num = input('Введите числа:\\n').split()\n",
    "print('Результат:')\n",
    "for i in range(len(num)):\n",
    "    for j in range(i+1,len(num)):\n",
    "        if num[i] == num[j]:\n",
    "            print(num[i], end=' ')\n",
    "            break"
   ]
  },
  {
   "cell_type": "markdown",
   "metadata": {},
   "source": []
  }
 ],
 "metadata": {
  "kernelspec": {
   "display_name": "Python 3",
   "language": "python",
   "name": "python3"
  },
  "language_info": {
   "codemirror_mode": {
    "name": "ipython",
    "version": 3
   },
   "file_extension": ".py",
   "mimetype": "text/x-python",
   "name": "python",
   "nbconvert_exporter": "python",
   "pygments_lexer": "ipython3",
   "version": "3.7.6"
  }
 },
 "nbformat": 4,
 "nbformat_minor": 4
}
