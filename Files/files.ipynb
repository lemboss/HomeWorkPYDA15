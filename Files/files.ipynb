{
 "cells": [
  {
   "cell_type": "code",
   "execution_count": 2,
   "metadata": {},
   "outputs": [],
   "source": [
    "import json"
   ]
  },
  {
   "cell_type": "code",
   "execution_count": 33,
   "metadata": {},
   "outputs": [],
   "source": [
    "newdict = dict()\n",
    "with open(\"purchase_log.txt\", encoding = \"utf-8\") as f:\n",
    "    with open(\"purchases.txt\", \"w\", encoding = \"utf-8\") as purchases:\n",
    "        for line in f:\n",
    "            str_ = json.loads(line)\n",
    "            newdict[str_[\"user_id\"]] = str_[\"category\"]\n",
    "        purchases.write(f'{newdict}')\n",
    "        "
   ]
  },
  {
   "cell_type": "code",
   "execution_count": 41,
   "metadata": {},
   "outputs": [],
   "source": [
    "with open('visit_log.csv') as f2read:\n",
    "    with open('purchases.txt', encoding = 'utf8') as purchases:\n",
    "        with open('funnel.csv', 'w') as f2write:\n",
    "            temp = json.loads(purchases.read().replace(\"\\'\", \"\\\"\"))\n",
    "            for line in f2read:\n",
    "                str_ = line.strip().split(',') \n",
    "                if str_[0] in temp.keys():\n",
    "                    f2write.write(f'{str_[0]},{str_[1]},{temp[str_[0]]}\\n')"
   ]
  }
 ],
 "metadata": {
  "kernelspec": {
   "display_name": "Python 3",
   "language": "python",
   "name": "python3"
  },
  "language_info": {
   "codemirror_mode": {
    "name": "ipython",
    "version": 3
   },
   "file_extension": ".py",
   "mimetype": "text/x-python",
   "name": "python",
   "nbconvert_exporter": "python",
   "pygments_lexer": "ipython3",
   "version": "3.7.6"
  }
 },
 "nbformat": 4,
 "nbformat_minor": 4
}
