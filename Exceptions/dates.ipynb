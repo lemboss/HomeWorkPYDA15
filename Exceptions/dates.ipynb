{
 "cells": [
  {
   "cell_type": "code",
   "execution_count": 2,
   "metadata": {},
   "outputs": [],
   "source": [
    "from datetime import datetime\n",
    "from datetime import timedelta"
   ]
  },
  {
   "cell_type": "markdown",
   "metadata": {},
   "source": [
    "# Задание 1"
   ]
  },
  {
   "cell_type": "code",
   "execution_count": 9,
   "metadata": {},
   "outputs": [],
   "source": [
    "d1 = datetime.strptime('Wednesday, October 2, 2002', '%A, %B %d, %Y')"
   ]
  },
  {
   "cell_type": "code",
   "execution_count": 13,
   "metadata": {},
   "outputs": [],
   "source": [
    "d2 = datetime.strptime('Friday, 11.10.13', '%A, %m.%d.%y')"
   ]
  },
  {
   "cell_type": "code",
   "execution_count": 14,
   "metadata": {},
   "outputs": [],
   "source": [
    "d3 = datetime.strptime('Thursday, 18 August 1977', '%A, %d %B %Y')"
   ]
  },
  {
   "cell_type": "markdown",
   "metadata": {},
   "source": [
    "# Задание 2"
   ]
  },
  {
   "cell_type": "code",
   "execution_count": 25,
   "metadata": {},
   "outputs": [
    {
     "name": "stdout",
     "output_type": "stream",
     "text": [
      "True\n",
      "False\n",
      "False\n"
     ]
    }
   ],
   "source": [
    "dates = ['2018-04-02', '2018-02-29', '2018-19-02']\n",
    "def check_date(dates, elem):\n",
    "    \"\"\"Даны даты YYYY-MM-DD. Проверить их на корректность\"\"\"\n",
    "    try:\n",
    "        date = datetime.strptime(dates[elem], '%Y-%m-%d')\n",
    "        return True\n",
    "    except ValueError:\n",
    "        return False\n",
    "i = 0\n",
    "for _ in dates:\n",
    "    res = check_date(dates, i)\n",
    "    print(res)\n",
    "    i += 1\n",
    "    "
   ]
  },
  {
   "cell_type": "markdown",
   "metadata": {},
   "source": [
    "# Задание 3"
   ]
  },
  {
   "cell_type": "code",
   "execution_count": null,
   "metadata": {},
   "outputs": [],
   "source": [
    "start_date = input('start (YYYY-MM-DD): ')\n",
    "end_date = input('end (YYYY-MM-DD): ')\n",
    "start_date_dt = datetime.strptime(start_date, '%Y-%m-%d')\n",
    "end_date_dt = datetime.strptime(end_date, '%Y-%m-%d')\n",
    "def date_range(start_dt, end_dt):\n",
    "    \"\"\"Возвращает список дат за период от start_date до end_date\"\"\"\n",
    "    dates = list()\n",
    "    if start_dt > end_dt:\n",
    "        return dates\n",
    "    while end_dt > start_dt:\n",
    "        dates.append(start_dt.strftime('%Y-%m-%d'))\n",
    "        start_dt += timedelta(days = 1)\n",
    "    return dates\n"
   ]
  },
  {
   "cell_type": "markdown",
   "metadata": {},
   "source": [
    "# Задание 4 "
   ]
  },
  {
   "cell_type": "markdown",
   "metadata": {},
   "source": [
    "1. Это значит, что была попытка найти элемент списка, которого в нем не существует.\n",
    "2. Функция возвращает 2-й элемент списка. После вызова функции второй раз количество элементов в списке становится = 1, то есть была попытка найти несуществующий элемент списка.\n"
   ]
  },
  {
   "cell_type": "code",
   "execution_count": null,
   "metadata": {},
   "outputs": [],
   "source": []
  }
 ],
 "metadata": {
  "kernelspec": {
   "display_name": "Python 3",
   "language": "python",
   "name": "python3"
  }
 },
 "nbformat": 4,
 "nbformat_minor": 4
}
