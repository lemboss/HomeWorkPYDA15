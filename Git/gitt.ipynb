{
 "cells": [
  {
   "cell_type": "markdown",
   "metadata": {},
   "source": [
    "Задание 1\n",
    "https://pastenow.ru/a77853a8a856c8d630f01d802452547e\n",
    "Задание 2\n",
    "https://pastenow.ru/0c6e965ea9daf1c90bd530658d347e41\n",
    "https://pastenow.ru/612a7a454cb62f8ff0df03c478c621d0\n",
    "Задание 3\n",
    "https://github.com/lemboss/HomeWorkPYDA15"
   ]
  }
 ],
 "metadata": {
  "kernelspec": {
   "display_name": "Python 3",
   "language": "python",
   "name": "python3"
  },
  "language_info": {
   "codemirror_mode": {
    "name": "ipython",
    "version": 3
   },
   "file_extension": ".py",
   "mimetype": "text/x-python",
   "name": "python",
   "nbconvert_exporter": "python",
   "pygments_lexer": "ipython3",
   "version": "3.7.6"
  }
 },
 "nbformat": 4,
 "nbformat_minor": 4
}
